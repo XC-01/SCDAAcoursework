{
 "cells": [
  {
   "cell_type": "code",
   "execution_count": 124,
   "metadata": {},
   "outputs": [],
   "source": [
    "# Exercise 1.1\n",
    "import numpy as np\n",
    "import torch\n",
    "from numpy.linalg import inv\n",
    "\n",
    "# Define a class with solve_Ricatti, control_value and markov control as required\n",
    "class LQR_Ricatti:\n",
    "    def __init__(self, H, M, C, D, R, T):\n",
    "        self.H = H\n",
    "        self.M = M\n",
    "        self.C = C\n",
    "        self.D = D\n",
    "        self.R = R\n",
    "        self.T = T\n",
    "        \n",
    "    def solve_Ricatti(self, t_grid):\n",
    "        delta_t = t_grid[1] - t_grid[0]\n",
    "        n = len(t_grid)\n",
    "        S = np.zeros((n, 2, 2))\n",
    "        S[-1] = self.R\n",
    "        for i in range(n - 2, -1, -1):\n",
    "            S_i = S[i + 1]\n",
    "            M_i = self.M(t_grid[i])\n",
    "            D_inv = np.linalg.inv(self.D)\n",
    "            S[i] = S_i - delta_t * (2 * np.dot(self.H.T, S_i) - np.dot(S_i, M_i).dot(D_inv).dot(M_i.T).dot(S_i) + self.C)\n",
    "        return S\n",
    "    \n",
    "    def control_value(self, t, x):\n",
    "        S = self.solve_Ricatti(t)\n",
    "        control_values = np.zeros((len(t), len(x)))\n",
    "        for i in range(len(t)):\n",
    "            for j in range(len(x)):\n",
    "                control_values[i, j] = np.dot(np.dot(x[j], S[i]), x[j]) + self.R[0, 0]\n",
    "        return torch.Tensor(control_values).unsqueeze(1)\n",
    "    \n",
    "    def markov_control(self, t, x):\n",
    "        S = self.solve_Ricatti(t)\n",
    "        markov_control_values = np.zeros((len(t), len(x), 2))\n",
    "        for i in range(len(t)):\n",
    "            for j in range(len(x)):\n",
    "                markov_control_values[i, j] = -np.dot(inv(self.D), np.dot(self.M(t[i]).T, np.dot(S[i], x[j])))\n",
    "        return torch.Tensor(markov_control_values)\n"
   ]
  },
  {
   "cell_type": "code",
   "execution_count": 125,
   "metadata": {},
   "outputs": [],
   "source": [
    "# Exercise 2.1\n",
    "import numpy as np\n",
    "# Define the problem parameters\n",
    "H = np.array([[1, 0], [0, 1]])\n",
    "M = lambda t: np.array([[1, 0], [0, 1]])\n",
    "C = np.array([[1, 0], [0, 1]])\n",
    "D = np.array([[1, 0], [0, 1]])\n",
    "R = np.array([[1, 0], [0, 1]])\n",
    "T = 1.0\n",
    "lqr = LQR_Ricatti(H, M, C, D, R, T)\n",
    "num_samples= 300\n",
    "t = np.linspace(0,1,num=num_samples)\n",
    "# Create an instance of the LQR_Ricatti class\n",
    "def generate_data(T, num_samples):\n",
    "    t_samples = np.random.uniform(0, T, num_samples) # t_samples is generated randomly, used in Exercise 2 as required\n",
    "    x_samples = np.random.uniform(-3, 3, size=(num_samples, 2)) # x_samples is generated randomly, used in Exercise 2,3,4 as required\n",
    "    v_samples = lqr.control_value(t_samples,x_samples) # v_samples is the value when x and t are x are x_samples and t_samples, respectively\n",
    "    v_true = lqr.control_value(t,x_samples) # v_true is generated with a fixed-step t and x_samples, used in Exercise 4 to compare with the result from PIA\n",
    "    m_samples = lqr.markov_control(t_samples,x_samples) # m_samples is the optimal Markov control when x and t are x are x_samples and t_samples, respectively\n",
    "    return t_samples.reshape(-1, 1), x_samples, v_samples, v_true, m_samples\n",
    "t_samples, x_samples, v_samples, v_true, m_samples = generate_data(T,num_samples)"
   ]
  },
  {
   "cell_type": "code",
   "execution_count": 126,
   "metadata": {},
   "outputs": [
    {
     "name": "stderr",
     "output_type": "stream",
     "text": [
      "/var/folders/pz/yr5dm55x0hg9ztjy88jlhgm40000gn/T/ipykernel_84758/883547808.py:26: UserWarning: To copy construct from a tensor, it is recommended to use sourceTensor.clone().detach() or sourceTensor.clone().detach().requires_grad_(True), rather than torch.tensor(sourceTensor).\n",
      "  targets = torch.tensor(v_samples, dtype=torch.float32)\n",
      "/Users/chenling/opt/anaconda3/lib/python3.9/site-packages/torch/nn/modules/loss.py:536: UserWarning: Using a target size (torch.Size([300, 1, 300])) that is different to the input size (torch.Size([300, 1])). This will likely lead to incorrect results due to broadcasting. Please ensure they have the same size.\n",
      "  return F.mse_loss(input, target, reduction=self.reduction)\n"
     ]
    },
    {
     "name": "stdout",
     "output_type": "stream",
     "text": [
      "Epoch 0, Loss: 317.1733\n",
      "Epoch 100, Loss: 76.7783\n",
      "Epoch 200, Loss: 76.7611\n"
     ]
    },
    {
     "data": {
      "image/png": "[encoded data removed]",
      "text/plain": [
       "<Figure size 432x288 with 1 Axes>"
      ]
     },
     "metadata": {
      "needs_background": "light"
     },
     "output_type": "display_data"
    }
   ],
   "source": [
    "import torch\n",
    "import torch.nn as nn\n",
    "import numpy as np\n",
    "import matplotlib.pyplot as plt\n",
    "class Net(nn.Module):\n",
    "    def __init__(self):\n",
    "        super(Net, self).__init__()\n",
    "        # The input dimension is 3 ,layer dimension is 100, layer number is 3 and the output dimension is 1\n",
    "        self.fc1 = nn.Linear(in_features=3, out_features=100)\n",
    "        self.fc2 = nn.Linear(in_features=100, out_features=100)\n",
    "        self.fc3 = nn.Linear(in_features=100, out_features=1)\n",
    "\n",
    "    def forward(self, x):\n",
    "        x = torch.relu(self.fc1(x))\n",
    "        x = torch.relu(self.fc2(x))\n",
    "        x = self.fc3(x)\n",
    "        return x\n",
    "def train(net, criterion, optimizer, t_samples, x_samples, v_samples, num_epochs=300):\n",
    "    train_loss = []\n",
    "    for epoch in range(num_epochs):\n",
    "        # inputs is 3 dimensions, outputs is 1 dimension\n",
    "        # targets is v_samples, where we get theoretically; outputs is the simulated one, which is calculated by the neutral network\n",
    "        # loss function is the difference between outputs and targets\n",
    "        optimizer.zero_grad()\n",
    "        inputs = torch.tensor(np.hstack((t_samples, x_samples)), dtype=torch.float32)\n",
    "        targets = torch.tensor(v_samples, dtype=torch.float32)\n",
    "        outputs = net(inputs)\n",
    "        loss = criterion(outputs, targets)\n",
    "        loss.backward()\n",
    "        optimizer.step()\n",
    "        train_loss.append(loss.item())\n",
    "        if epoch % 100 == 0:\n",
    "            print(f\"Epoch {epoch}, Loss: {loss.item():.4f}\")\n",
    "    return train_loss\n",
    "net = Net()\n",
    "criterion = nn.MSELoss()\n",
    "optimizer = torch.optim.Adam(net.parameters(), lr=0.01)\n",
    "train_loss = train(net, criterion, optimizer, t_samples, x_samples, v_samples)\n",
    "plt.plot(train_loss)\n",
    "plt.title(\"Training Loss\")\n",
    "plt.xlabel(\"Epoch\")\n",
    "plt.ylabel(\"Loss\")\n",
    "plt.show()"
   ]
  },
  {
   "cell_type": "code",
   "execution_count": 127,
   "metadata": {},
   "outputs": [],
   "source": [
    "# Exercise 2.2\n",
    "import torch\n",
    "import torch.nn as nn\n",
    "from collections import namedtuple\n",
    "from typing import Tuple\n",
    "import matplotlib.pyplot as plt\n",
    "\n",
    "# Define a class of feedforward neural network\n",
    "class FFN(nn.Module):\n",
    "\n",
    "    def __init__(self, sizes, activation=nn.ReLU, output_activation=nn.Identity, batch_norm=False):\n",
    "        super().__init__()\n",
    "        \n",
    "        layers = [nn.BatchNorm1d(sizes[0]),] if batch_norm else []\n",
    "        for j in range(len(sizes)-1):\n",
    "            layers.append(nn.Linear(sizes[j], sizes[j+1]))\n",
    "            if batch_norm:\n",
    "                layers.append(nn.BatchNorm1d(sizes[j+1], affine=True))\n",
    "            if j<(len(sizes)-2):\n",
    "                layers.append(activation())\n",
    "            else:\n",
    "                layers.append(output_activation())\n",
    "\n",
    "        self.net = nn.Sequential(*layers)\n",
    "\n",
    "    def freeze(self):\n",
    "        for p in self.parameters():\n",
    "            p.requires_grad=False\n",
    "\n",
    "    def unfreeze(self):\n",
    "        for p in self.parameters():\n",
    "            p.requires_grad=True\n",
    "\n",
    "    def forward(self, x):\n",
    "        return self.net(x)\n"
   ]
  },
  {
   "cell_type": "code",
   "execution_count": 129,
   "metadata": {},
   "outputs": [
    {
     "name": "stderr",
     "output_type": "stream",
     "text": [
      "/var/folders/pz/yr5dm55x0hg9ztjy88jlhgm40000gn/T/ipykernel_84758/565251862.py:3: UserWarning: To copy construct from a tensor, it is recommended to use sourceTensor.clone().detach() or sourceTensor.clone().detach().requires_grad_(True), rather than torch.tensor(sourceTensor).\n",
      "  m_samples_1 = torch.tensor(m_samples, dtype=torch.float32)\n",
      "/Users/chenling/opt/anaconda3/lib/python3.9/site-packages/torch/nn/modules/loss.py:536: UserWarning: Using a target size (torch.Size([300, 300, 2])) that is different to the input size (torch.Size([300, 2])). This will likely lead to incorrect results due to broadcasting. Please ensure they have the same size.\n",
      "  return F.mse_loss(input, target, reduction=self.reduction)\n"
     ]
    },
    {
     "name": "stdout",
     "output_type": "stream",
     "text": [
      "Epoch [100/300], Loss: 0.0948\n",
      "Epoch [200/300], Loss: 0.0897\n",
      "Epoch [300/300], Loss: 0.0884\n"
     ]
    },
    {
     "data": {
      "image/png": "[encoded data removed]",
      "text/plain": [
       "<Figure size 432x288 with 1 Axes>"
      ]
     },
     "metadata": {
      "needs_background": "light"
     },
     "output_type": "display_data"
    }
   ],
   "source": [
    "# Define problem parameters\n",
    "t_samples_1 = torch.tensor(t_samples, dtype=torch.float32)\n",
    "x_samples_1 = torch.tensor(x_samples, dtype=torch.float32)\n",
    "m_samples_1 = torch.tensor(m_samples, dtype=torch.float32)\n",
    "model = FFN([2, 100, 2])\n",
    "loss_fn = nn.MSELoss()\n",
    "optimizer = torch.optim.Adam(model.parameters(), lr=0.01)\n",
    "n_epochs = 300\n",
    "train_loss = []\n",
    "\n",
    "for epoch in range(n_epochs):\n",
    "    # Forward pass\n",
    "    m_pred = model(x_samples_1)\n",
    "\n",
    "    # Compute loss\n",
    "    loss = loss_fn(m_pred, m_samples_1)\n",
    "\n",
    "    # Backward pass and optimization step\n",
    "    optimizer.zero_grad()\n",
    "    loss.backward()\n",
    "    optimizer.step()\n",
    "\n",
    "    # Record loss for plotting\n",
    "    train_loss.append(loss.item())\n",
    "\n",
    "    # Print progress every 100 epochs\n",
    "    if (epoch+1) % 100 == 0:\n",
    "        print(f\"Epoch [{epoch+1}/{n_epochs}], Loss: {loss.item():.4f}\")\n",
    "\n",
    "plt.plot(train_loss)\n",
    "plt.title(\"Training Loss\")\n",
    "plt.xlabel(\"Epoch\")\n",
    "plt.ylabel(\"Loss\")\n",
    "plt.show()"
   ]
  },
  {
   "cell_type": "code",
   "execution_count": 149,
   "metadata": {},
   "outputs": [],
   "source": [
    "# Exercise 3\n",
    "import numpy as np\n",
    "# Define problem parameters\n",
    "n = 300  # Number of spatial grid points\n",
    "m = 300  # Number of time steps\n",
    "T = 1\n",
    "dt = T / (m - 1)  # Time step size\n",
    "t = np.linspace(0,1,num=m)\n",
    "H = [1,1]\n",
    "M = [-1,-1]\n",
    "C = np.array([[1, 5], [5, 1]])\n",
    "D = np.array([[0.01, 0], [0, 0.01]])\n",
    "R = np.array([[1, 0], [0, 1]])\n",
    "sigma = [1,1]\n",
    "u = np.ones((300,1))\n",
    "u_samples = np.zeros((n,1))\n",
    "\n",
    "def L(i,alpha):\n",
    "    L_u = np.zeros_like(u)\n",
    "    dx_u = np.zeros_like(u)\n",
    "    dxx_u = np.zeros_like(u)\n",
    "    # define the first and second derivative by the definition in discrete-time horizon\n",
    "    dx_u[i] = (u[i+1]-u[i])/np.mean((x_samples[i+1]-x_samples[i]))\n",
    "    dxx_u[i] = (dx_u[i+1]-dx_u[i])/np.mean((x_samples[i+1]-x_samples[i]))\n",
    "    # preliminary parameter\n",
    "    Hx = np.dot(H, np.transpose(x_samples[i]))\n",
    "    Malpha = np.dot(M, alpha)\n",
    "    # Compute L operator\n",
    "    L_u[i] = 0.5*np.dot(np.dot(sigma, np.transpose(sigma)) , dxx_u[i])\n",
    "    L_u[i] += np.dot(Hx, dx_u[i])\n",
    "    L_u[i] += np.dot(Malpha, dx_u[i])\n",
    "    L_u[i] += np.dot(np.dot(x_samples[i] , C) , np.transpose(x_samples[i]))\n",
    "    L_u[i] += np.dot(np.transpose(alpha), np.dot(D, alpha))\n",
    "    return L_u[i].flatten()\n",
    "\n",
    "# generate u_samples\n",
    "for i in range(n-1):\n",
    "    u_samples[i+1,0] = u_samples[i,0] - dt * (-1) * L(i,np.transpose([1,1]))"
   ]
  },
  {
   "cell_type": "code",
   "execution_count": 138,
   "metadata": {},
   "outputs": [
    {
     "name": "stdout",
     "output_type": "stream",
     "text": [
      "Epoch 0, Loss: 10.4997\n",
      "Epoch 100, Loss: 2.5959\n",
      "Epoch 200, Loss: 2.2941\n"
     ]
    },
    {
     "data": {
      "image/png": "[encoded data removed]",
      "text/plain": [
       "<Figure size 432x288 with 1 Axes>"
      ]
     },
     "metadata": {
      "needs_background": "light"
     },
     "output_type": "display_data"
    }
   ],
   "source": [
    "def train_pde(net, criterion, optimizer, t_samples, x_samples, u_samples, num_epochs=300):\n",
    "    train_loss = []\n",
    "    for epoch in range(num_epochs):\n",
    "        optimizer.zero_grad()\n",
    "        inputs = torch.tensor(np.hstack((t_samples, x_samples)), dtype=torch.float32)\n",
    "        targets = torch.tensor(u_samples, dtype=torch.float32)\n",
    "        outputs = net(inputs)\n",
    "        loss = criterion(outputs, targets)\n",
    "        loss.backward()\n",
    "        optimizer.step()\n",
    "        train_loss.append(loss.item())\n",
    "        if epoch % 100 == 0:\n",
    "            print(f\"Epoch {epoch}, Loss: {loss.item():.4f}\")\n",
    "    return train_loss\n",
    "net = Net()\n",
    "criterion = nn.MSELoss()\n",
    "optimizer = torch.optim.Adam(net.parameters(), lr=0.01)\n",
    "train_loss = train_pde(net, criterion, optimizer, t_samples, x_samples, u_samples)\n",
    "plt.plot(train_loss)\n",
    "plt.title(\"Training Loss\")\n",
    "plt.xlabel(\"Epoch\")\n",
    "plt.ylabel(\"Loss\")\n",
    "plt.show()"
   ]
  },
  {
   "cell_type": "code",
   "execution_count": 150,
   "metadata": {},
   "outputs": [],
   "source": [
    "# Exercise 4\n",
    "\n",
    "import numpy as np\n",
    "# Define problem parameters\n",
    "n = 300  # Number of spatial grid points\n",
    "m = 300  # Number of time steps\n",
    "T = 1\n",
    "dt = T / (m - 1)  # Time step size\n",
    "t = np.linspace(0,1,num=m)\n",
    "H = [-1,-1]\n",
    "M = [-1,-1]\n",
    "C = np.array([[1, 5], [5, 1]])\n",
    "D = np.array([[0.01, 0], [0, 0.01]])\n",
    "R = np.array([[1, 0], [0, 1]])\n",
    "sigma = [1,1]\n",
    "u = np.ones((300,1))\n",
    "u_samples = np.zeros((n,1))\n",
    "\n",
    "def L(i,alpha):\n",
    "    L_u = np.zeros_like(u)\n",
    "    dx_u = np.zeros_like(u)\n",
    "    dxx_u = np.zeros_like(u)\n",
    "    # define the first and second derivative by the definition in discrete-time horizon\n",
    "    dx_u[i] = (u[i+1]-u[i])/np.mean((x_samples[i+1]-x_samples[i]))\n",
    "    dxx_u[i] = (dx_u[i+1]-dx_u[i])/np.mean((x_samples[i+1]-x_samples[i]))\n",
    "    # preliminary parameter\n",
    "    Hx = np.dot(H, np.transpose(x_samples[i]))\n",
    "    Malpha = np.dot(M, alpha)\n",
    "    # Compute L operator\n",
    "    L_u[i] = 0.5*np.dot(np.dot(sigma, np.transpose(sigma)) , dxx_u[i])\n",
    "    L_u[i] += np.dot(Hx, dx_u[i])\n",
    "    L_u[i] += np.dot(Malpha, dx_u[i])\n",
    "    L_u[i] += np.dot(np.dot(x_samples[i] , C) , np.transpose(x_samples[i]))\n",
    "    L_u[i] += np.dot(np.transpose(alpha), np.dot(D, alpha))\n",
    "    return L_u[i].flatten()\n",
    "\n",
    "# generate u_samples\n",
    "for i in range(n-1):\n",
    "    u_samples[i+1,0] = u_samples[i,0] - dt * (-1) * L(i,np.transpose([1,1]))"
   ]
  },
  {
   "cell_type": "code",
   "execution_count": 152,
   "metadata": {},
   "outputs": [],
   "source": [
    "# v_alpha is a matrix with each column being the u we generated and the column number being the time\n",
    "v_alpha = np.ones((n,n))\n",
    "alpha = np.transpose([1,1])\n",
    "for j in range(n-1):\n",
    "    for i in range(n-1):\n",
    "        v_alpha[i,j] = v_alpha[i-1,j]-dt*(-1)*L(i,alpha)\n",
    "    alpha_1 = -np.mean(v_alpha[:,j])/2\n",
    "    alpha_2 = -np.mean(v_alpha[:,j])/2\n",
    "    alpha = np.transpose([alpha_1,alpha_2])\n",
    "    v_alpha[0,j+1] = np.mean(v_alpha[:,j])"
   ]
  },
  {
   "cell_type": "code",
   "execution_count": 153,
   "metadata": {},
   "outputs": [
    {
     "name": "stdout",
     "output_type": "stream",
     "text": [
      "[[1.40476291 1.43011146 1.43058965 1.43059871 1.43059888 1.43059888\n",
      "  1.43059888 1.43059888 1.43059888 1.43059888 1.43059888 1.43059888\n",
      "  1.43059888 1.43059888 1.43059888 1.43059888 1.43059888 1.43059888\n",
      "  1.43059888 1.43059888 1.43059888 1.43059888 1.43059888 1.43059888\n",
      "  1.43059888 1.43059888 1.43059888 1.43059888 1.43059888 1.43059888\n",
      "  1.43059888 1.43059888 1.43059888 1.43059888 1.43059888 1.43059888\n",
      "  1.43059888 1.43059888 1.43059888 1.43059888 1.43059888 1.43059888\n",
      "  1.43059888 1.43059888 1.43059888 1.43059888 1.43059888 1.43059888\n",
      "  1.43059888 1.43059888 1.43059888 1.43059888 1.43059888 1.43059888\n",
      "  1.43059888 1.43059888 1.43059888 1.43059888 1.43059888 1.43059888\n",
      "  1.43059888 1.43059888 1.43059888 1.43059888 1.43059888 1.43059888\n",
      "  1.43059888 1.43059888 1.43059888 1.43059888 1.43059888 1.43059888\n",
      "  1.43059888 1.43059888 1.43059888 1.43059888 1.43059888 1.43059888\n",
      "  1.43059888 1.43059888 1.43059888 1.43059888 1.43059888 1.43059888\n",
      "  1.43059888 1.43059888 1.43059888 1.43059888 1.43059888 1.43059888\n",
      "  1.43059888 1.43059888 1.43059888 1.43059888 1.43059888 1.43059888\n",
      "  1.43059888 1.43059888 1.43059888 1.43059888 1.43059888 1.43059888\n",
      "  1.43059888 1.43059888 1.43059888 1.43059888 1.43059888 1.43059888\n",
      "  1.43059888 1.43059888 1.43059888 1.43059888 1.43059888 1.43059888\n",
      "  1.43059888 1.43059888 1.43059888 1.43059888 1.43059888 1.43059888\n",
      "  1.43059888 1.43059888 1.43059888 1.43059888 1.43059888 1.43059888\n",
      "  1.43059888 1.43059888 1.43059888 1.43059888 1.43059888 1.43059888\n",
      "  1.43059888 1.43059888 1.43059888 1.43059888 1.43059888 1.43059888\n",
      "  1.43059888 1.43059888 1.43059888 1.43059888 1.43059888 1.43059888\n",
      "  1.43059888 1.43059888 1.43059888 1.43059888 1.43059888 1.43059888\n",
      "  1.43059888 1.43059888 1.43059888 1.43059888 1.43059888 1.43059888\n",
      "  1.43059888 1.43059888 1.43059888 1.43059888 1.43059888 1.43059888\n",
      "  1.43059888 1.43059888 1.43059888 1.43059888 1.43059888 1.43059888\n",
      "  1.43059888 1.43059888 1.43059888 1.43059888 1.43059888 1.43059888\n",
      "  1.43059888 1.43059888 1.43059888 1.43059888 1.43059888 1.43059888\n",
      "  1.43059888 1.43059888 1.43059888 1.43059888 1.43059888 1.43059888\n",
      "  1.43059888 1.43059888 1.43059888 1.43059888 1.43059888 1.43059888\n",
      "  1.43059888 1.43059888 1.43059888 1.43059888 1.43059888 1.43059888\n",
      "  1.43059888 1.43059888 1.43059888 1.43059888 1.43059888 1.43059888\n",
      "  1.43059888 1.43059888 1.43059888 1.43059888 1.43059888 1.43059888\n",
      "  1.43059888 1.43059888 1.43059888 1.43059888 1.43059888 1.43059888\n",
      "  1.43059888 1.43059888 1.43059888 1.43059888 1.43059888 1.43059888\n",
      "  1.43059888 1.43059888 1.43059888 1.43059888 1.43059888 1.43059888\n",
      "  1.43059888 1.43059888 1.43059888 1.43059888 1.43059888 1.43059888\n",
      "  1.43059888 1.43059888 1.43059888 1.43059888 1.43059888 1.43059888\n",
      "  1.43059888 1.43059888 1.43059888 1.43059888 1.43059888 1.43059888\n",
      "  1.43059888 1.43059888 1.43059888 1.43059888 1.43059888 1.43059888\n",
      "  1.43059888 1.43059888 1.43059888 1.43059888 1.43059888 1.43059888\n",
      "  1.43059888 1.43059888 1.43059888 1.43059888 1.43059888 1.43059888\n",
      "  1.43059888 1.43059888 1.43059888 1.43059888 1.43059888 1.43059888\n",
      "  1.43059888 1.43059888 1.43059888 1.43059888 1.43059888 1.43059888\n",
      "  1.43059888 1.43059888 1.43059888 1.43059888 1.43059888 1.43059888\n",
      "  1.43059888 1.43059888 1.43059888 1.43059888 1.43059888 1.43059888\n",
      "  1.43059888 1.43059888 1.43059888 1.43059888 1.43059888 1.43059888\n",
      "  1.43059888 1.43059888 1.43059888 1.43059888 1.43059888 0.        ]]\n"
     ]
    }
   ],
   "source": [
    "# test the loss between v_alpha and v_true\n",
    "loss_v = np.zeros((1,n))\n",
    "for i in range(n-1):\n",
    "    loss_v[0,i] = np.mean(v_alpha[:,i]-v_true.numpy())\n",
    "print(loss_v)\n"
   ]
  }
 ],
 "metadata": {
  "kernelspec": {
   "display_name": "Python 3.9.12 ('base')",
   "language": "python",
   "name": "python3"
  },
  "language_info": {
   "codemirror_mode": {
    "name": "ipython",
    "version": 3
   },
   "file_extension": ".py",
   "mimetype": "text/x-python",
   "name": "python",
   "nbconvert_exporter": "python",
   "pygments_lexer": "ipython3",
   "version": "3.9.12"
  },
  "orig_nbformat": 4,
  "vscode": {
   "interpreter": {
    "hash": "6025af49cac3f02c9575f02e22cf8f94b097e7b6c688b21b9b9f0b4fbf2beb44"
   }
  }
 },
 "nbformat": 4,
 "nbformat_minor": 2
}
